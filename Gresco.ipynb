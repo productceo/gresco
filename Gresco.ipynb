{
 "cells": [
  {
   "cell_type": "markdown",
   "metadata": {},
   "source": [
    "# Gresco"
   ]
  },
  {
   "cell_type": "code",
   "execution_count": 1,
   "metadata": {
    "scrolled": false
   },
   "outputs": [],
   "source": [
    "from gresco import Gresco\n",
    "\n",
    "gresco = Gresco(\n",
    "    scene_images_dir = \"datasets/scenes\",\n",
    "    object_images_dir = \"datasets/objects\",\n",
    "    dataset = \"datasets/input/vqa_multi_dataset.hdf5\",\n",
    "    vocab = \"datasets/input/vocab_vqa_multi.json\"\n",
    ")"
   ]
  },
  {
   "cell_type": "code",
   "execution_count": 2,
   "metadata": {},
   "outputs": [],
   "source": [
    "!rm -rf datasets/release\n",
    "!mkdir datasets/release\n",
    "\n",
    "!rm -rf datasets/output/*\n",
    "!mkdir datasets/output/generalizability\n",
    "!mkdir datasets/output/robustness\n",
    "!mkdir datasets/output/extensibility"
   ]
  },
  {
   "cell_type": "code",
   "execution_count": 3,
   "metadata": {
    "scrolled": false
   },
   "outputs": [
    {
     "name": "stderr",
     "output_type": "stream",
     "text": [
      "/scr/junwon/gresco/env/lib/python3.5/site-packages/torch/nn/functional.py:2577: UserWarning: nn.functional.upsample_bilinear is deprecated. Use nn.functional.interpolate instead.\n",
      "  warnings.warn(\"nn.functional.upsample_bilinear is deprecated. Use nn.functional.interpolate instead.\")\n",
      "  0% |                                                                        |\r"
     ]
    },
    {
     "name": "stdout",
     "output_type": "stream",
     "text": [
      "COMPLETE: Building Dataset G Train\n"
     ]
    },
    {
     "name": "stderr",
     "output_type": "stream",
     "text": [
      "  0% |                                                                        |\r"
     ]
    },
    {
     "name": "stdout",
     "output_type": "stream",
     "text": [
      "COMPLETE: Building Dataset G Val\n"
     ]
    },
    {
     "name": "stderr",
     "output_type": "stream",
     "text": [
      "  0% |                                                                        |\r"
     ]
    },
    {
     "name": "stdout",
     "output_type": "stream",
     "text": [
      "COMPLETE: Building Dataset R Train\n"
     ]
    },
    {
     "name": "stderr",
     "output_type": "stream",
     "text": [
      "  0% |                                                                        |\r"
     ]
    },
    {
     "name": "stdout",
     "output_type": "stream",
     "text": [
      "COMPLETE: Building Dataset R Val\n"
     ]
    },
    {
     "name": "stderr",
     "output_type": "stream",
     "text": [
      "  0% |                                                                        |\r"
     ]
    },
    {
     "name": "stdout",
     "output_type": "stream",
     "text": [
      "COMPLETE: Building Dataset E Train\n",
      "COMPLETE: Building Dataset E Val\n",
      "READY for build_gre_dataset.sh\n"
     ]
    }
   ],
   "source": [
    "gresco.generate_dataset_gre()"
   ]
  },
  {
   "cell_type": "code",
   "execution_count": 8,
   "metadata": {},
   "outputs": [
    {
     "name": "stdout",
     "output_type": "stream",
     "text": [
      "build_gre_dataset.sh: 1: build_gre_dataset.sh: deactivate: not found\n",
      "\n",
      "\n",
      " Building Dataset G \n",
      "\n",
      "\n",
      "Getting top 1000 answers...\n",
      "Parsing to get train qas...\n",
      "Parsed 3 train qas.\n",
      "Loading vocab...\n",
      "Storing 3 train qas...\n",
      "N/A% (0 of 3) |                           | Elapsed Time: 0:00:00 ETA:  --:--:--Parsing the val set...\n",
      "Storing 3 val set...\n",
      "N/A% (0 of 3) |                           | Elapsed Time: 0:00:00 ETA:  --:--:--Storing 3 train images...\n",
      "N/A% (0 of 3) |                           | Elapsed Time: 0:00:00 ETA:  --:--:--Storing 3 train features...\n",
      " 66% (2 of 3) |##################          | Elapsed Time: 0:00:00 ETA:  0:00:00Storing 3 val images...\n",
      "N/A% (0 of 3) |                           | Elapsed Time: 0:00:00 ETA:  --:--:--Storing 3 val features...\n",
      " 66% (2 of 3) |##################          | Elapsed Time: 0:00:00 ETA:  0:00:00\n",
      "\n",
      " Building Dataset R \n",
      "\n",
      "\n",
      "Getting top 1000 answers...\n",
      "Parsing to get train qas...\n",
      "Parsed 1032 train qas.\n",
      "Loading vocab...\n",
      "Storing 1032 train qas...\n",
      " 98% (1020 of 1032) |##################### | Elapsed Time: 0:00:01 ETA:  0:00:00Parsing the val set...\n",
      "Storing 1032 val set...\n",
      " 97% (1007 of 1032) |##################### | Elapsed Time: 0:00:01 ETA:  0:00:00Storing 1032 train images...\n",
      " 99% (1026 of 1032) |##################### | Elapsed Time: 0:00:12 ETA:  0:00:00Storing 1032 train features...\n",
      " 99% (1030 of 1032) |##################### | Elapsed Time: 0:01:23 ETA:  0:00:00Storing 1032 val images...\n",
      " 99% (1025 of 1032) |##################### | Elapsed Time: 0:00:12 ETA:  0:00:00Storing 1032 val features...\n",
      " 99% (1030 of 1032) |##################### | Elapsed Time: 0:01:22 ETA:  0:00:00\n",
      "\n",
      " Building Dataset E \n",
      "\n",
      "\n",
      "Getting top 1000 answers...\n",
      "Parsing to get train qas...\n",
      "Parsed 187 train qas.\n",
      "Loading vocab...\n",
      "Storing 187 train qas...\n",
      " 88% (166 of 187) |#####################   | Elapsed Time: 0:00:00 ETA:  0:00:00Parsing the val set...\n",
      "Storing 187 val set...\n",
      " 90% (169 of 187) |#####################   | Elapsed Time: 0:00:00 ETA:  0:00:00Storing 187 train images...\n",
      " 97% (183 of 187) |####################### | Elapsed Time: 0:00:02 ETA:  0:00:00Storing 187 train features...\n",
      " 98% (185 of 187) |####################### | Elapsed Time: 0:00:14 ETA:  0:00:00Storing 187 val images...\n",
      " 97% (183 of 187) |####################### | Elapsed Time: 0:00:02 ETA:  0:00:00Storing 187 val features...\n",
      " 98% (185 of 187) |####################### | Elapsed Time: 0:00:14 ETA:  0:00:00"
     ]
    }
   ],
   "source": [
    "!sh build_gre_dataset.sh"
   ]
  },
  {
   "cell_type": "code",
   "execution_count": 9,
   "metadata": {},
   "outputs": [
    {
     "name": "stdout",
     "output_type": "stream",
     "text": [
      "total 3353628\r\n",
      "drwxr-sr-x 2 junwon root       4096 Dec  7 02:15 .\r\n",
      "drwxr-sr-x 9 junwon root       4096 Dec  7 02:11 ..\r\n",
      "-rw-r--r-- 1 junwon root  262757216 Dec  7 02:16 train_e.hdf5\r\n",
      "-rw-r--r-- 1 junwon root    4221096 Dec  7 02:11 train_g.hdf5\r\n",
      "-rw-r--r-- 1 junwon root 1450063336 Dec  7 02:15 train_r.hdf5\r\n",
      "-rw-r--r-- 1 junwon root  262757216 Dec  7 02:16 val_e.hdf5\r\n",
      "-rw-r--r-- 1 junwon root    4221096 Dec  7 02:11 val_g.hdf5\r\n",
      "-rw-r--r-- 1 junwon root 1450063336 Dec  7 02:15 val_r.hdf5\r\n"
     ]
    }
   ],
   "source": [
    "!ls -la datasets/release"
   ]
  },
  {
   "cell_type": "code",
   "execution_count": 10,
   "metadata": {
    "scrolled": false
   },
   "outputs": [],
   "source": [
    "# image = \"datasets/input/val2014/COCO_val2014_000000428580.jpg\"\n",
    "# question = \"what is this?\"\n",
    "# answer = \"umbrella\"\n",
    "# object_class = \"airplanes\""
   ]
  },
  {
   "cell_type": "code",
   "execution_count": 11,
   "metadata": {
    "scrolled": false
   },
   "outputs": [],
   "source": [
    "# images_g, images_r, images_e = gresco.sample_gre(self, image, question, answer, object_class)"
   ]
  }
 ],
 "metadata": {
  "kernelspec": {
   "display_name": "Python 3",
   "language": "python",
   "name": "python3"
  },
  "language_info": {
   "codemirror_mode": {
    "name": "ipython",
    "version": 3
   },
   "file_extension": ".py",
   "mimetype": "text/x-python",
   "name": "python",
   "nbconvert_exporter": "python",
   "pygments_lexer": "ipython3",
   "version": "3.5.5"
  }
 },
 "nbformat": 4,
 "nbformat_minor": 2
}
