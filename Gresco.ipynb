{
 "cells": [
  {
   "cell_type": "markdown",
   "metadata": {},
   "source": [
    "# Gresco"
   ]
  },
  {
   "cell_type": "code",
   "execution_count": 1,
   "metadata": {},
   "outputs": [],
   "source": [
    "from gresco import Gresco\n",
    "\n",
    "gresco = Gresco(\n",
    "    scene_images_dir = \"datasets/scenes\",\n",
    "    object_images_dir = \"datasets/objects\",\n",
    "    dataset = \"datasets/input/vqa_seg_val_dataset.hdf5\"\n",
    ")"
   ]
  },
  {
   "cell_type": "code",
   "execution_count": null,
   "metadata": {
    "scrolled": false
   },
   "outputs": [
    {
     "name": "stderr",
     "output_type": "stream",
     "text": [
      "/scr/junwon/gresco/env/lib/python3.5/site-packages/torch/nn/functional.py:2577: UserWarning: nn.functional.upsample_bilinear is deprecated. Use nn.functional.interpolate instead.\n",
      "  warnings.warn(\"nn.functional.upsample_bilinear is deprecated. Use nn.functional.interpolate instead.\")\n"
     ]
    }
   ],
   "source": [
    "import sys\n",
    "stdout = sys.stdout\n",
    "image = \"datasets/input/val2014/COCO_val2014_000000428580.jpg\"\n",
    "question = \"what is this?\"\n",
    "answer = \"umbrella\"\n",
    "object_image = \"datasets/objects/airplanes/airbus.jpg\"\n",
    "scene_without_object, object_mask, scene_with_object = gresco.test_sample_object_overlay(image, question, answer, object_image)"
   ]
  },
  {
   "cell_type": "code",
   "execution_count": null,
   "metadata": {
    "scrolled": false
   },
   "outputs": [],
   "source": [
    "import matplotlib.pyplot as plt\n",
    "from IPython.display import display\n",
    "from PIL import Image\n",
    "import numpy as np\n",
    "import cv2\n",
    "\n",
    "img = Image.open(image)\n",
    "display(img)\n",
    "object_mask = object_mask.transpose((1, 2, 0))\n",
    "display(scene_without_object)\n",
    "display(scene_with_object)"
   ]
  },
  {
   "cell_type": "code",
   "execution_count": null,
   "metadata": {},
   "outputs": [],
   "source": []
  }
 ],
 "metadata": {
  "kernelspec": {
   "display_name": "Python 3",
   "language": "python",
   "name": "python3"
  },
  "language_info": {
   "codemirror_mode": {
    "name": "ipython",
    "version": 3
   },
   "file_extension": ".py",
   "mimetype": "text/x-python",
   "name": "python",
   "nbconvert_exporter": "python",
   "pygments_lexer": "ipython3",
   "version": "3.5.5"
  }
 },
 "nbformat": 4,
 "nbformat_minor": 2
}
